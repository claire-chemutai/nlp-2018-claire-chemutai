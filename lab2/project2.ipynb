{
 "cells": [
  {
   "cell_type": "code",
   "execution_count": 1,
   "metadata": {},
   "outputs": [
    {
     "name": "stdout",
     "output_type": "stream",
     "text": [
      "Enter the source:execution\n",
      "Enter the target:intention\n"
     ]
    },
    {
     "data": {
      "text/plain": [
       "5"
      ]
     },
     "execution_count": 1,
     "metadata": {},
     "output_type": "execute_result"
    }
   ],
   "source": [
    "def min_edit(source, target):\n",
    "    n=len(source)\n",
    "    m=len(target)\n",
    "    D=[[0 for x in range(m+1)] for x in range(n+1)] \n",
    "    for i in range(n+1):\n",
    "        for j in range(m+1):\n",
    "            if i==0:\n",
    "                D[i][j]=j\n",
    "            elif j==0:\n",
    "                D[i][j]=i\n",
    "            elif source[i-1]==target[j-1]:\n",
    "                D[i][j]=D[i-1][j-1]\n",
    "            else:   \n",
    "                D[i][j]=1+min(D[i-1][j],\n",
    "                            D[i-1][j-1],\n",
    "                            D[i][j-1])\n",
    "    return D[n][m]\n",
    "source=input(\"Enter the source:\")\n",
    "target=input(\"Enter the target:\")\n",
    "min_edit(source, target)\n",
    "    \n",
    "\n",
    "    \n"
   ]
  },
  {
   "cell_type": "code",
   "execution_count": null,
   "metadata": {},
   "outputs": [],
   "source": []
  },
  {
   "cell_type": "code",
   "execution_count": null,
   "metadata": {},
   "outputs": [],
   "source": []
  }
 ],
 "metadata": {
  "kernelspec": {
   "display_name": "Python 3",
   "language": "python",
   "name": "python3"
  },
  "language_info": {
   "codemirror_mode": {
    "name": "ipython",
    "version": 3
   },
   "file_extension": ".py",
   "mimetype": "text/x-python",
   "name": "python",
   "nbconvert_exporter": "python",
   "pygments_lexer": "ipython3",
   "version": "3.6.5"
  }
 },
 "nbformat": 4,
 "nbformat_minor": 2
}
